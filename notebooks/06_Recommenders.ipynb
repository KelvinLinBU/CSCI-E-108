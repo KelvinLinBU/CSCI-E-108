{
 "cells": [
  {
   "cell_type": "markdown",
   "id": "c0bd2ca9-a64e-44a4-b065-ba27c7564b1a",
   "metadata": {},
   "source": [
    "# 5 - Ranking and Recommender Models\n",
    "## CSCI E-108\n",
    "### Steve Elston"
   ]
  },
  {
   "cell_type": "markdown",
   "id": "a3dceee9-fab6-41a0-ba03-8e301333bb3c",
   "metadata": {},
   "source": [
    "The exercises in this notebook are formulated to evaluate your understanding of recommender algorithms. "
   ]
  },
  {
   "cell_type": "markdown",
   "id": "d523104c-91e3-4a5b-9ae6-59c0ee28fa25",
   "metadata": {},
   "source": [
    "> **Exercise 6-01:** Recommender systems must overcome a number of biases. Answer the following questions concerning these biases in one or a few sentence.\n",
    "> 1. Explain how negative sampling bias arises in ranking algorithms.\n",
    "> 2. Explain how position bias arises in ranking algorithms.\n",
    "> 3. How are negative sampling bias and position bias related?"
   ]
  },
  {
   "cell_type": "markdown",
   "id": "11b8343b-36ad-4b52-b82b-37d147204f25",
   "metadata": {},
   "source": [
    "> **Answers:**\n",
    "> 1.      \n",
    "> 2.      \n",
    "> 3.      "
   ]
  },
  {
   "cell_type": "markdown",
   "id": "30ea52ac-8361-4b68-8774-0c74698dbd4f",
   "metadata": {},
   "source": [
    "> **Exercise 6-02:** Embedding is essential for similarity search required for search and recommender algorithms. Answer the following questions in one or a few sentences.\n",
    "> 1. Why is embedding of categorical features essential for recommender systems.\n",
    "> 2. Explain the consequences of using a hash algorithm that does not have each of the four properties are essential for hashing a high dimensional categorical variable?\n",
    "> 4. If you need to use multiple high dimensional categorical variables in a ranking algorithm how can you formulate a vector for similarity search?      "
   ]
  },
  {
   "cell_type": "markdown",
   "id": "9400aaee-0300-4632-bf8e-e931dc6ecb70",
   "metadata": {},
   "source": [
    "> **Answers:**\n",
    "> 1.         \n",
    "> 2.        \n",
    ">    a)        \n",
    ">    b)               \n",
    ">    c)             \n",
    ">    d)                \n",
    "> 4.       "
   ]
  },
  {
   "cell_type": "markdown",
   "id": "f6e4d026-5eb6-4d77-983b-1d30cfe15236",
   "metadata": {},
   "source": [
    "> **Exercise 6-03:** Consider the key concepts that define content based recommenders and answer the following questions in one or a few sentance.:\n",
    "> 1. What type of search is used to generate the recommendation list?\n",
    "> 2. How are recommendations ranked in a content-based recommender? \n",
    "> 3. How can a item-item content-based recommender overcome the cold start problem?      "
   ]
  },
  {
   "cell_type": "markdown",
   "id": "dfc684a6-b502-4ccb-a49a-ccba92d3dab0",
   "metadata": {},
   "source": [
    "> **Answers:**\n",
    "> 1.          \n",
    "> 2.          \n",
    "> 3.        "
   ]
  },
  {
   "cell_type": "markdown",
   "id": "b883802e-0ee0-4506-b4d6-d1c50ec3aa29",
   "metadata": {},
   "source": [
    "> **Exercise 6-04:** In one or a few sentences answer the following questions about collaborative filtering algorithms.\n",
    "> 1. explain the key difference between the learning in content-based recommender algorithms and collaborative filtering recommender algorithms.\n",
    "> 2. How do mixed negative sampling (MNS) help with negative sampling bias for collaborative filtering algorithms?\n",
    "> 3. In a two tower model what is the role of the observation tower?   "
   ]
  },
  {
   "cell_type": "markdown",
   "id": "091b1856-014b-4396-af5b-e5e8bbc2a118",
   "metadata": {},
   "source": [
    "> **Answers:**\n",
    "> 1.      \n",
    "> 2.         \n",
    "> 3.          "
   ]
  },
  {
   "cell_type": "markdown",
   "id": "db50433d-a456-46ed-8d4e-886905c2f0f2",
   "metadata": {},
   "source": [
    "#### Copyright 2025 Stephen F. Elston. All rights reserved.  "
   ]
  },
  {
   "cell_type": "code",
   "execution_count": null,
   "id": "397845f2-bf49-4530-8d65-593c5c1362be",
   "metadata": {},
   "outputs": [],
   "source": []
  }
 ],
 "metadata": {
  "kernelspec": {
   "display_name": "Python 3 (ipykernel)",
   "language": "python",
   "name": "python3"
  },
  "language_info": {
   "codemirror_mode": {
    "name": "ipython",
    "version": 3
   },
   "file_extension": ".py",
   "mimetype": "text/x-python",
   "name": "python",
   "nbconvert_exporter": "python",
   "pygments_lexer": "ipython3",
   "version": "3.12.7"
  }
 },
 "nbformat": 4,
 "nbformat_minor": 5
}
